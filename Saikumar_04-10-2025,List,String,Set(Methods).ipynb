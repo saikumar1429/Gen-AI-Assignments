{
 "cells": [
  {
   "cell_type": "code",
   "execution_count": 69,
   "id": "8b99511e-4f57-4518-bd8f-62c07ee3ec3d",
   "metadata": {},
   "outputs": [
    {
     "name": "stdout",
     "output_type": "stream",
     "text": [
      "[' Sai', 'Kumar', 'Teja', 'Vinay', 'Nikhil']\n"
     ]
    }
   ],
   "source": [
    "# List Methods\n",
    "#1. Append \n",
    "list = [\" Sai\",\"Kumar\", \"Teja\",\"Vinay\",\"Nikhil\"]\n",
    "print(list)"
   ]
  },
  {
   "cell_type": "code",
   "execution_count": 70,
   "id": "ccefabca-ce83-4879-992e-6fb12faf152b",
   "metadata": {},
   "outputs": [],
   "source": [
    "list.append(\"Bharath\")"
   ]
  },
  {
   "cell_type": "code",
   "execution_count": 71,
   "id": "97dce9ec-041c-4bbe-a6a5-cce6d1d53d58",
   "metadata": {},
   "outputs": [
    {
     "name": "stdout",
     "output_type": "stream",
     "text": [
      "[' Sai', 'Kumar', 'Teja', 'Vinay', 'Nikhil', 'Bharath']\n"
     ]
    }
   ],
   "source": [
    "print(list)"
   ]
  },
  {
   "cell_type": "code",
   "execution_count": 66,
   "id": "76fece24-af40-4c31-8e82-ec91d75661e1",
   "metadata": {
    "scrolled": true
   },
   "outputs": [
    {
     "name": "stdout",
     "output_type": "stream",
     "text": [
      "[' Sai', 'Kumar', 'Teja', 'Vinay', 'Nikhil', 'Bharath']\n"
     ]
    }
   ],
   "source": [
    "#2. Remove\n",
    "list.remove(\"Bharath\")\n",
    "print(list) "
   ]
  },
  {
   "cell_type": "code",
   "execution_count": 37,
   "id": "0c70586a-7650-4a57-96c0-97f4a5b36881",
   "metadata": {},
   "outputs": [
    {
     "name": "stdout",
     "output_type": "stream",
     "text": [
      "['Bharath', 'Teja', 'Kumar', ' Sai']\n"
     ]
    }
   ],
   "source": [
    "#  3.Reverse \n",
    "\n",
    "list.reverse()\n",
    "print(list)"
   ]
  },
  {
   "cell_type": "code",
   "execution_count": 38,
   "id": "7d244f5b-639c-4cf1-afaa-0a90cf807a66",
   "metadata": {},
   "outputs": [
    {
     "name": "stdout",
     "output_type": "stream",
     "text": [
      "['Bharath', 'Teja', 'Vamshi', 'Kumar', ' Sai']\n"
     ]
    }
   ],
   "source": [
    " # 4. Insert an element\n",
    "list.insert(2,\"Vamshi\")\n",
    "print(list)"
   ]
  },
  {
   "cell_type": "code",
   "execution_count": 39,
   "id": "6fb8bac6-f465-4453-9cd7-2615ca09ec46",
   "metadata": {},
   "outputs": [
    {
     "data": {
      "text/plain": [
       "2"
      ]
     },
     "execution_count": 39,
     "metadata": {},
     "output_type": "execute_result"
    }
   ],
   "source": [
    "#5. Index ;\n",
    "list.index(\"Vamshi\")"
   ]
  },
  {
   "cell_type": "code",
   "execution_count": 40,
   "id": "4abb12a5-31ac-4750-ae58-25575c489ef7",
   "metadata": {},
   "outputs": [
    {
     "name": "stdout",
     "output_type": "stream",
     "text": [
      "['Bharath', 'Vamshi', 'Kumar', ' Sai']\n"
     ]
    }
   ],
   "source": [
    "#6. Pop ;\n",
    "list.pop(1)\n",
    "print(list)\n"
   ]
  },
  {
   "cell_type": "code",
   "execution_count": 41,
   "id": "f197c885-bc16-422b-b09e-69703cc02df6",
   "metadata": {},
   "outputs": [
    {
     "data": {
      "text/plain": [
       "1"
      ]
     },
     "execution_count": 41,
     "metadata": {},
     "output_type": "execute_result"
    }
   ],
   "source": [
    "# 7. Count ;\n",
    "list.count(\"Vamshi\")"
   ]
  },
  {
   "cell_type": "code",
   "execution_count": 52,
   "id": "2b3af526-fb17-44d7-b504-768f4e6df65d",
   "metadata": {},
   "outputs": [
    {
     "name": "stdout",
     "output_type": "stream",
     "text": [
      "[' Sai', 'Kumar', 'Teja', 'Vinay', 'Nani', 'Mintu']\n"
     ]
    }
   ],
   "source": [
    "# 8.  Extends \n",
    "List1=[\" Sai\",\"Kumar\", \"Teja\",\"Vinay\"]\n",
    "List2 =[\"Nani\",\"Mintu\"]\n",
    "List1.extend(List2)\n",
    "print(List1)"
   ]
  },
  {
   "cell_type": "code",
   "execution_count": 53,
   "id": "0587a1e0-ca2e-4f5f-98b6-84e4a0dc13c4",
   "metadata": {},
   "outputs": [
    {
     "name": "stdout",
     "output_type": "stream",
     "text": [
      "[' Sai', 'Kumar', 'Teja', 'Vinay', 'Nani', 'Mintu']\n"
     ]
    }
   ],
   "source": [
    "print(List1)"
   ]
  },
  {
   "cell_type": "code",
   "execution_count": 55,
   "id": "050d0072-42b1-4e3a-af4e-6841906eb69f",
   "metadata": {},
   "outputs": [
    {
     "name": "stdout",
     "output_type": "stream",
     "text": [
      "[' Sai', 'Kumar', 'Mintu', 'Nani', 'Teja', 'Vinay']\n"
     ]
    }
   ],
   "source": [
    "# 9. Sort\n",
    "List1.sort()\n",
    "print(List1)"
   ]
  },
  {
   "cell_type": "code",
   "execution_count": 56,
   "id": "2f309ec2-5ff6-4828-871e-6343372289e2",
   "metadata": {},
   "outputs": [
    {
     "name": "stdout",
     "output_type": "stream",
     "text": [
      "[' Sai', 'Kumar', 'Mintu', 'Nani', 'Teja', 'Vinay']\n"
     ]
    }
   ],
   "source": [
    "# 10 Copy ;\n",
    "My_list=List1.copy()\n",
    "print(My_list)\n",
    "\n",
    "\n"
   ]
  },
  {
   "cell_type": "code",
   "execution_count": 57,
   "id": "e2758a20-774d-44ae-beaf-cb7c57d49da6",
   "metadata": {},
   "outputs": [],
   "source": [
    "# 11, Clear ;\n",
    "My_list.clear()"
   ]
  },
  {
   "cell_type": "code",
   "execution_count": 59,
   "id": "62097d0d-c5ab-43d6-a69a-0f7fc7e2f4f3",
   "metadata": {},
   "outputs": [
    {
     "name": "stdout",
     "output_type": "stream",
     "text": [
      "[]\n"
     ]
    }
   ],
   "source": [
    "print(My_list)\n"
   ]
  },
  {
   "cell_type": "code",
   "execution_count": 8,
   "id": "bcbcb961-27a4-4438-a797-3d8de0d9bd93",
   "metadata": {},
   "outputs": [
    {
     "name": "stdout",
     "output_type": "stream",
     "text": [
      "Hello I Am Sai Kumar\n"
     ]
    }
   ],
   "source": []
  },
  {
   "cell_type": "code",
   "execution_count": 2,
   "id": "09137abc-6f87-456d-a850-647678eb4dbb",
   "metadata": {},
   "outputs": [],
   "source": [
    "### String Methods\n",
    "text= \"Hello I Am Sai Kumar\"\n"
   ]
  },
  {
   "cell_type": "code",
   "execution_count": 3,
   "id": "97fd8ad5-ef4d-490f-90d1-b49a1a8c81c3",
   "metadata": {},
   "outputs": [
    {
     "name": "stdout",
     "output_type": "stream",
     "text": [
      "HELLO I AM SAI KUMAR\n"
     ]
    }
   ],
   "source": [
    "###1. Upper Case\n",
    "print(text.upper()) "
   ]
  },
  {
   "cell_type": "code",
   "execution_count": 4,
   "id": "3b914909-4979-40ef-96e1-f0e940343dc3",
   "metadata": {},
   "outputs": [
    {
     "name": "stdout",
     "output_type": "stream",
     "text": [
      "hello i am sai kumar\n"
     ]
    }
   ],
   "source": [
    "##2. Lower Case\n",
    "print(text.lower()) \n"
   ]
  },
  {
   "cell_type": "code",
   "execution_count": 5,
   "id": "e0daddc1-30cf-43da-a162-63594fecf834",
   "metadata": {},
   "outputs": [
    {
     "name": "stdout",
     "output_type": "stream",
     "text": [
      "Hello I Am Sai Kumar\n"
     ]
    }
   ],
   "source": [
    "##3 .Title\n",
    "print(text.title()) \n"
   ]
  },
  {
   "cell_type": "code",
   "execution_count": 6,
   "id": "37333034-a6bb-4844-86ed-df6bd9014c39",
   "metadata": {},
   "outputs": [
    {
     "name": "stdout",
     "output_type": "stream",
     "text": [
      "Hello i am sai kumar\n"
     ]
    }
   ],
   "source": [
    "##4 .Captilize \n",
    "print(text.capitalize()) "
   ]
  },
  {
   "cell_type": "code",
   "execution_count": 7,
   "id": "0619a0d9-731b-47a2-bba8-dc4ded6b070f",
   "metadata": {},
   "outputs": [
    {
     "name": "stdout",
     "output_type": "stream",
     "text": [
      "hELLO i aM sAI kUMAR\n"
     ]
    }
   ],
   "source": [
    "##5. SwapCase\n",
    "print(text.swapcase())"
   ]
  },
  {
   "cell_type": "code",
   "execution_count": 8,
   "id": "5c2c722e-1e08-44c2-94cd-6b8431d109c7",
   "metadata": {},
   "outputs": [
    {
     "name": "stdout",
     "output_type": "stream",
     "text": [
      "Hello I Am Sai Kumar\n"
     ]
    }
   ],
   "source": [
    "##6. Strip\n",
    "print(text.strip())"
   ]
  },
  {
   "cell_type": "code",
   "execution_count": 4,
   "id": "90312dc1-ba04-48c8-87f1-4a860362e5f7",
   "metadata": {},
   "outputs": [
    {
     "name": "stdout",
     "output_type": "stream",
     "text": [
      "Hello I Am Vinay Kumar\n"
     ]
    }
   ],
   "source": [
    "##7.Replace\n",
    "print(text.replace(\"Sai\", \"Vinay\"))  "
   ]
  },
  {
   "cell_type": "code",
   "execution_count": 5,
   "id": "827ca943",
   "metadata": {},
   "outputs": [
    {
     "name": "stdout",
     "output_type": "stream",
     "text": [
      "11\n"
     ]
    }
   ],
   "source": [
    "##8 Find\n",
    "print(text.find(\"Sai\"))"
   ]
  },
  {
   "cell_type": "code",
   "execution_count": 6,
   "id": "13a8b6b1",
   "metadata": {},
   "outputs": [
    {
     "name": "stdout",
     "output_type": "stream",
     "text": [
      "['Hello', 'I', 'Am', 'Sai', 'Kumar']\n"
     ]
    }
   ],
   "source": [
    "##9. Split\n",
    "print(text.split())"
   ]
  },
  {
   "cell_type": "code",
   "execution_count": 7,
   "id": "a1c0b5cd",
   "metadata": {},
   "outputs": [
    {
     "name": "stdout",
     "output_type": "stream",
     "text": [
      "H e l l o   I   A m   S a i   K u m a r\n"
     ]
    }
   ],
   "source": [
    "##10. Join\n",
    "print(\" \".join(text))   "
   ]
  },
  {
   "cell_type": "code",
   "execution_count": 8,
   "id": "5cc9b64e",
   "metadata": {},
   "outputs": [
    {
     "name": "stdout",
     "output_type": "stream",
     "text": [
      "11\n"
     ]
    }
   ],
   "source": [
    "##11.Index\n",
    "print(text.index(\"Sai\"))"
   ]
  },
  {
   "cell_type": "code",
   "execution_count": 9,
   "id": "6e3c59f4",
   "metadata": {},
   "outputs": [
    {
     "name": "stdout",
     "output_type": "stream",
     "text": [
      "1\n"
     ]
    }
   ],
   "source": [
    "##12.Count\n",
    "print(text.count(\"Sai\"))"
   ]
  },
  {
   "cell_type": "code",
   "execution_count": 10,
   "id": "85814e6f",
   "metadata": {},
   "outputs": [
    {
     "name": "stdout",
     "output_type": "stream",
     "text": [
      "True\n"
     ]
    }
   ],
   "source": [
    "##13. Startswith\n",
    "print(text.startswith(\"H\"))"
   ]
  },
  {
   "cell_type": "code",
   "execution_count": 11,
   "id": "2a759418",
   "metadata": {},
   "outputs": [
    {
     "name": "stdout",
     "output_type": "stream",
     "text": [
      "True\n"
     ]
    }
   ],
   "source": [
    "##14. Endswith\n",
    "print(text.endswith(\"Kumar\")) "
   ]
  },
  {
   "cell_type": "code",
   "execution_count": 12,
   "id": "8533c338",
   "metadata": {},
   "outputs": [
    {
     "name": "stdout",
     "output_type": "stream",
     "text": [
      "000000000000000000000000000000Hello I Am Sai Kumar\n"
     ]
    }
   ],
   "source": [
    "##15.zfill\n",
    "print(text.zfill(50))"
   ]
  },
  {
   "cell_type": "code",
   "execution_count": null,
   "id": "6314b6c8",
   "metadata": {},
   "outputs": [],
   "source": []
  },
  {
   "cell_type": "code",
   "execution_count": 13,
   "id": "0be1dd5a",
   "metadata": {},
   "outputs": [
    {
     "name": "stdout",
     "output_type": "stream",
     "text": [
      "False\n"
     ]
    }
   ],
   "source": [
    "##16.isalpha\n",
    "print(text.isalpha())"
   ]
  },
  {
   "cell_type": "code",
   "execution_count": 14,
   "id": "af7763c1",
   "metadata": {},
   "outputs": [
    {
     "name": "stdout",
     "output_type": "stream",
     "text": [
      "False\n"
     ]
    }
   ],
   "source": [
    "##17.isdigit\n",
    "print(text.isdigit())"
   ]
  },
  {
   "cell_type": "code",
   "execution_count": 15,
   "id": "73089477",
   "metadata": {},
   "outputs": [
    {
     "name": "stdout",
     "output_type": "stream",
     "text": [
      "False\n"
     ]
    }
   ],
   "source": [
    "##18.isalnum\n",
    "print(text.isalnum())"
   ]
  },
  {
   "cell_type": "code",
   "execution_count": 16,
   "id": "1cdd93d0",
   "metadata": {},
   "outputs": [
    {
     "name": "stdout",
     "output_type": "stream",
     "text": [
      "['Hello I Am Sai Kumar']\n"
     ]
    }
   ],
   "source": [
    "##19.splitlines\n",
    "print(text.splitlines())"
   ]
  },
  {
   "cell_type": "code",
   "execution_count": 17,
   "id": "f6e2e906",
   "metadata": {},
   "outputs": [
    {
     "name": "stdout",
     "output_type": "stream",
     "text": [
      "{'Vinay', 'Sai', 'Nikhil', 'Kumar', 'Teja'}\n"
     ]
    }
   ],
   "source": [
    "### 3, SET METHODS\n",
    "set = {\"Sai\", \"Kumar\", \"Teja\", \"Vinay\", \"Nikhil\"}\n",
    "print(set)"
   ]
  },
  {
   "cell_type": "code",
   "execution_count": null,
   "id": "8e2729d4",
   "metadata": {},
   "outputs": [
    {
     "name": "stdout",
     "output_type": "stream",
     "text": [
      "{'Bharath', 'Vinay', 'Sai', 'Nikhil', 'Kumar', 'Teja'}\n"
     ]
    }
   ],
   "source": [
    "##1.Add\n",
    "\n",
    "set.add(\"Bharath\")\n",
    "print(set)"
   ]
  },
  {
   "cell_type": "code",
   "execution_count": 19,
   "id": "44ea63c8",
   "metadata": {},
   "outputs": [
    {
     "name": "stdout",
     "output_type": "stream",
     "text": [
      "{'Bharath', 'Vinay', 'Sai', 'Mintu', 'Nikhil', 'Nani', 'Kumar', 'Teja'}\n"
     ]
    }
   ],
   "source": [
    "##2.Update\n",
    "set.update([\"Nani\", \"Mintu\"])       \n",
    "print(set)"
   ]
  },
  {
   "cell_type": "code",
   "execution_count": 20,
   "id": "54b6f0b0",
   "metadata": {},
   "outputs": [
    {
     "name": "stdout",
     "output_type": "stream",
     "text": [
      "{'Bharath', 'Vinay', 'Sai', 'Nikhil', 'Nani', 'Kumar', 'Teja'}\n"
     ]
    }
   ],
   "source": [
    "##3.Remove\n",
    "set.remove(\"Mintu\")\n",
    "print(set)"
   ]
  },
  {
   "cell_type": "code",
   "execution_count": 21,
   "id": "1cc82e7e",
   "metadata": {},
   "outputs": [
    {
     "name": "stdout",
     "output_type": "stream",
     "text": [
      "{'Bharath', 'Vinay', 'Sai', 'Nikhil', 'Kumar', 'Teja'}\n"
     ]
    }
   ],
   "source": [
    "##4.discard\n",
    "set.discard(\"Nani\")\n",
    "print(set)"
   ]
  },
  {
   "cell_type": "code",
   "execution_count": 22,
   "id": "85ec0694",
   "metadata": {},
   "outputs": [
    {
     "name": "stdout",
     "output_type": "stream",
     "text": [
      "{'Vinay', 'Sai', 'Nikhil', 'Kumar', 'Teja'}\n"
     ]
    }
   ],
   "source": [
    "##5.pop\n",
    "set.pop()\n",
    "print(set)"
   ]
  },
  {
   "cell_type": "code",
   "execution_count": null,
   "id": "b45f82fc",
   "metadata": {},
   "outputs": [
    {
     "name": "stdout",
     "output_type": "stream",
     "text": [
      "{'Vinay', 'Sai', 'Ravi', 'Nikhil', 'Raju', 'Kumar', 'Teja'}\n"
     ]
    }
   ],
   "source": [
    "#6 Union\n",
    "set2={\"Ravi\", \"Raju\"}\n",
    "set3=set.union(set2)\n",
    "print(set3)"
   ]
  },
  {
   "cell_type": "code",
   "execution_count": 24,
   "id": "2a6799da",
   "metadata": {},
   "outputs": [
    {
     "name": "stdout",
     "output_type": "stream",
     "text": [
      "{'Vinay', 'Sai', 'Nikhil', 'Kumar', 'Teja'}\n"
     ]
    }
   ],
   "source": [
    "##7.difference\n",
    "set4=set.difference(set2)\n",
    "print(set4)"
   ]
  },
  {
   "cell_type": "code",
   "execution_count": 25,
   "id": "5d3687a7",
   "metadata": {},
   "outputs": [
    {
     "name": "stdout",
     "output_type": "stream",
     "text": [
      "set()\n"
     ]
    }
   ],
   "source": [
    "##8.intersection\n",
    "set5=set.intersection(set2)\n",
    "print(set5)"
   ]
  },
  {
   "cell_type": "code",
   "execution_count": 26,
   "id": "8521bd24",
   "metadata": {},
   "outputs": [
    {
     "name": "stdout",
     "output_type": "stream",
     "text": [
      "False\n",
      "{'Vinay', 'Sai', 'Nikhil', 'Kumar', 'Teja'}\n"
     ]
    }
   ],
   "source": [
    "##9.subset\n",
    "print(set.issubset(set2))\n",
    "print(set)     "
   ]
  },
  {
   "cell_type": "code",
   "execution_count": null,
   "id": "8ead1e07",
   "metadata": {},
   "outputs": [],
   "source": []
  },
  {
   "cell_type": "code",
   "execution_count": 27,
   "id": "eca91fbd",
   "metadata": {},
   "outputs": [
    {
     "name": "stdout",
     "output_type": "stream",
     "text": [
      "{'Vinay', 'Sai', 'Nikhil', 'Kumar', 'Teja'}\n"
     ]
    }
   ],
   "source": [
    "##10.copy\n",
    "set6=set.copy()\n",
    "print(set6)"
   ]
  },
  {
   "cell_type": "code",
   "execution_count": 28,
   "id": "a13f4b79",
   "metadata": {},
   "outputs": [],
   "source": [
    "##11.clear\n",
    "set.clear()"
   ]
  }
 ],
 "metadata": {
  "kernelspec": {
   "display_name": "Python 3 (ipykernel)",
   "language": "python",
   "name": "python3"
  },
  "language_info": {
   "codemirror_mode": {
    "name": "ipython",
    "version": 3
   },
   "file_extension": ".py",
   "mimetype": "text/x-python",
   "name": "python",
   "nbconvert_exporter": "python",
   "pygments_lexer": "ipython3",
   "version": "3.10.11"
  }
 },
 "nbformat": 4,
 "nbformat_minor": 5
}
